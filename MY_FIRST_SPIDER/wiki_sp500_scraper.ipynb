{
 "cells": [
  {
   "cell_type": "code",
   "execution_count": 12,
   "metadata": {},
   "outputs": [],
   "source": [
    "import pandas as pd\n",
    "from requests_html import HTMLSession \n",
    "import os\n",
    "\n",
    "#### Section 1: get the urls to crawl - download the file like normal (asgn 05), look at new variables,\n",
    "#___f name or the filing name, go to the edgar website and search for company filings and then search by CIK..\n",
    "# one of the firms and you see the htm filing and a txt file, we should grab the txt file. Second part. \n",
    "\n",
    "### Section 3 – Measure Risk: Third part of the assignment, loop over 10ks and \"search\" then and then \n",
    "### Section 4 – Data Analysis\n",
    "\n",
    "# if I don't have the list/data with URLS\n",
    "\n",
    "# 1. acquire the data/urls to crawl \n",
    "# 2. save that data/urls\n",
    "# else\n",
    "    # open that file\n",
    "\n",
    "        # open page\n",
    "\n",
    "if not os.path.exists('inputs/'):\n",
    "    os.makedirs('inputs/')\n",
    "        \n",
    "    url = 'https://en.wikipedia.org/wiki/List_of_S%26P_500_companies'\n",
    "    session = HTMLSession()\n",
    "    r = session.get(url)\n",
    "\n",
    "\n",
    "    # grab the URLS\n",
    "    table = r.html.find('#constituents')[0]\n",
    "    table_rows = table.find('tr')\n",
    "    colinks = []\n",
    "    for row in table_rows[1:]:\n",
    "        a_link = list(row.find('td')[1].absolute_links)[0]\n",
    "        colinks.append(a_link)\n",
    "\n",
    "    # save it \n",
    "    if not os.path.exists('inputs/'):\n",
    "        os.makedirs('inputs/')\n",
    "    pd.DataFrame(colinks).to_csv('inputs/sp500_wiki_urls.csv',index=False,header=False)\n",
    "\n",
    "else: \n",
    "    colinks = pd.read_csv('inputs/sp500_wiki_urls.csv',names=['firm'])['firm'].to_list()\n",
    "        \n",
    "\n",
    "#### Section 2: crawl the urls \n",
    "\n",
    "for row in the data structure with urls or info that leads to urls:\n",
    "    Q0: whats the url \n",
    "    Q1: what the folder to save the html \n",
    "    Q2: whats the filename\n",
    "    Q1+Q2 = path/filename ill save it to "
   ]
  },
  {
   "cell_type": "code",
   "execution_count": null,
   "metadata": {},
   "outputs": [],
   "source": [
    "# Don't upload all of the text files to github – go into github under repository, select ingnored files\n",
    "#..../name of intial folder/name of next folder/*(any file in that is ignored) "
   ]
  }
 ],
 "metadata": {
  "kernelspec": {
   "display_name": "Python 3",
   "language": "python",
   "name": "python3"
  },
  "language_info": {
   "codemirror_mode": {
    "name": "ipython",
    "version": 3
   },
   "file_extension": ".py",
   "mimetype": "text/x-python",
   "name": "python",
   "nbconvert_exporter": "python",
   "pygments_lexer": "ipython3",
   "version": "3.7.4"
  }
 },
 "nbformat": 4,
 "nbformat_minor": 2
}
