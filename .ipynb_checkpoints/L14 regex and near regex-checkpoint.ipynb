{
 "cells": [
  {
   "cell_type": "code",
   "execution_count": null,
   "metadata": {},
   "outputs": [],
   "source": [
    "import re"
   ]
  },
  {
   "cell_type": "code",
   "execution_count": null,
   "metadata": {},
   "outputs": [],
   "source": [
    "# functions: search, findall, finditer, group "
   ]
  },
  {
   "cell_type": "code",
   "execution_count": null,
   "metadata": {},
   "outputs": [],
   "source": [
    "# re.search(pattern,text)\n",
    "re.search(\"c\",\"abcdef\") # returns a mtach object \n",
    "type(re.search(\"[d-f]\",\"abcdef\"))\n",
    "\n",
    "# match objects can be \"true or false\"\n",
    "if re.search(\"[x-z]\",\"abcdef\"):\n",
    "    print(\"found a match!\")\n",
    "else:\n",
    "    print(\"no match!\")\n",
    "    \n",
    "# how many hits are there\n",
    "\n",
    "re.findall(\"[d-f]{2}\",\"abcdef\") # findall returns a list of all matches\n",
    "# non overlap \n",
    "\n",
    "len(re.findall(\"[d-f]\",\"abcdef\")) # returns the number of hits for the range\n",
    "\n",
    "# good idea – always put an \"r\" before the pattern! \n",
    "\n",
    "re.findall(r\"\\bc\",\"cabccccccf\") # should match but doesn't - interpret it raw "
   ]
  },
  {
   "cell_type": "code",
   "execution_count": null,
   "metadata": {},
   "outputs": [],
   "source": [
    "# \\w --> \"word\" characters [A-Za-z0-9_]\n",
    "# {m} match a number of elements in a row "
   ]
  },
  {
   "cell_type": "code",
   "execution_count": null,
   "metadata": {},
   "outputs": [],
   "source": [
    "text = \"hey there guy\"\n",
    "re.findall(r'\\b\\w{3}\\b',text) # opposite of w plus the beginning and end of the string "
   ]
  },
  {
   "cell_type": "code",
   "execution_count": null,
   "metadata": {},
   "outputs": [],
   "source": [
    "from NEAR_regex import NEAR_regex"
   ]
  },
  {
   "cell_type": "code",
   "execution_count": null,
   "metadata": {},
   "outputs": [],
   "source": [
    "help(NEAR_regex)"
   ]
  },
  {
   "cell_type": "code",
   "execution_count": null,
   "metadata": {},
   "outputs": [],
   "source": [
    "# look for word one near word two...WORD 1 \"near\" WORD 2\n",
    "#....r\"WORD1<_(\\w)+>{0,5}WORD2\" # Look for word 1 near word 2 with some number of words in the middle "
   ]
  },
  {
   "cell_type": "code",
   "execution_count": null,
   "metadata": {},
   "outputs": [],
   "source": [
    "a_string_you_have = 'Jack and Jill went up the hill'\n",
    "words = ['jack','hill']                         \n",
    "rgx = NEAR_regex(words)      \n",
    "#rgx\n",
    "a_string_you_have = a_string_you_have.lower() # lowercase your strings\n",
    "#re.findall(rgx,a_string_you_have) # find all the characters in a string you have\n",
    "len(re.findall(rgx,a_string_you_have)) # how many times are they near each other\n",
    "rgx = NEAR_regex(words, max_words_between=1) # changes the default # number of words in between the two words "
   ]
  },
  {
   "cell_type": "markdown",
   "metadata": {},
   "source": [
    "# Tesla..again"
   ]
  },
  {
   "cell_type": "code",
   "execution_count": null,
   "metadata": {},
   "outputs": [],
   "source": [
    "from bs4 import BeautifulSoup\n",
    "import requests\n",
    "\n",
    "url = 'https://www.sec.gov/Archives/edgar/data/1318605/000156459019003165/0001564590-19-003165.txt'\n",
    "edgar_resp = requests.get(url)\n",
    "# save the url\n",
    "# then in the next part of assignment, youll load it again\n",
    "# here - i'm skipping those steps so we can grab one document to look at\n",
    "\n",
    "loaded_file = edgar_resp.content\n",
    "\n",
    "from NEAR_regex import NEAR_regex \n",
    "\n",
    "# try to use NEAR_regex... look for it working and failing..."
   ]
  },
  {
   "cell_type": "code",
   "execution_count": null,
   "metadata": {},
   "outputs": [],
   "source": [
    "loaded_file"
   ]
  },
  {
   "cell_type": "code",
   "execution_count": null,
   "metadata": {},
   "outputs": [],
   "source": []
  }
 ],
 "metadata": {
  "kernelspec": {
   "display_name": "Python 3",
   "language": "python",
   "name": "python3"
  },
  "language_info": {
   "codemirror_mode": {
    "name": "ipython",
    "version": 3
   },
   "file_extension": ".py",
   "mimetype": "text/x-python",
   "name": "python",
   "nbconvert_exporter": "python",
   "pygments_lexer": "ipython3",
   "version": "3.7.4"
  }
 },
 "nbformat": 4,
 "nbformat_minor": 2
}
