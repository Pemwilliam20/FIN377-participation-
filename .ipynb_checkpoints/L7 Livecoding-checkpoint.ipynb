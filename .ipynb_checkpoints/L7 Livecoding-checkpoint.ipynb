{
 "cells": [
  {
   "cell_type": "code",
   "execution_count": null,
   "metadata": {},
   "outputs": [],
   "source": [
    "import pandas as pd\n",
    "import seaborn as sns\n",
    "import numpy as np"
   ]
  },
  {
   "cell_type": "code",
   "execution_count": null,
   "metadata": {},
   "outputs": [],
   "source": [
    "diamonds = sns.load_dataset('diamonds')"
   ]
  },
  {
   "cell_type": "code",
   "execution_count": null,
   "metadata": {},
   "outputs": [],
   "source": [
    "diamonds.describe()"
   ]
  },
  {
   "cell_type": "code",
   "execution_count": null,
   "metadata": {},
   "outputs": [],
   "source": [
    "diamonds['cut'].mean"
   ]
  },
  {
   "cell_type": "code",
   "execution_count": null,
   "metadata": {},
   "outputs": [],
   "source": [
    "diamonds['cut'].value_counts"
   ]
  },
  {
   "cell_type": "code",
   "execution_count": null,
   "metadata": {},
   "outputs": [],
   "source": [
    "sns.countplot(diamonds['carat'])"
   ]
  },
  {
   "cell_type": "code",
   "execution_count": null,
   "metadata": {},
   "outputs": [],
   "source": [
    "sns.distplot(diamonds['carat'])"
   ]
  },
  {
   "cell_type": "code",
   "execution_count": null,
   "metadata": {},
   "outputs": [],
   "source": [
    "sns.distplot(diamonds['carat'],kde=False, bins=np.arange(0.2,2.05,.05).tolist())"
   ]
  },
  {
   "cell_type": "code",
   "execution_count": null,
   "metadata": {},
   "outputs": [],
   "source": [
    "sns.boxplot(diamonds['carat'])"
   ]
  },
  {
   "cell_type": "code",
   "execution_count": null,
   "metadata": {},
   "outputs": [],
   "source": [
    "sns.violinplot(data=diamonds,x='carat',y='price')"
   ]
  },
  {
   "cell_type": "code",
   "execution_count": null,
   "metadata": {},
   "outputs": [],
   "source": [
    "sns.scatterplot(data=diamonds.query('y < 20 & x > 2.5'),x='x',y='y') #let's fix this graph, deal with the outliers (depends), winsorize everything"
   ]
  },
  {
   "cell_type": "code",
   "execution_count": null,
   "metadata": {},
   "outputs": [],
   "source": [
    "sns.jointplot(data=diamonds.query('y < 20 & x > 2.5'),x='x',y='y')"
   ]
  },
  {
   "cell_type": "code",
   "execution_count": null,
   "metadata": {},
   "outputs": [],
   "source": [
    "# how is carat related to price? \n",
    "\n",
    "sns.scatterplot(data=diamonds.query('y < 3000 & x < 1'), x='carat',y='price')"
   ]
  },
  {
   "cell_type": "code",
   "execution_count": null,
   "metadata": {},
   "outputs": [],
   "source": [
    "# how is cut related to price?\n",
    "\n",
    "sns.scatterplot(data=diamonds, x='cut',y='price')"
   ]
  },
  {
   "cell_type": "code",
   "execution_count": null,
   "metadata": {},
   "outputs": [],
   "source": [
    "sns.boxplot(data=diamonds.query('price < 6000'),x='cut',y='price')"
   ]
  },
  {
   "cell_type": "code",
   "execution_count": null,
   "metadata": {},
   "outputs": [],
   "source": [
    "sns.distplot(diamonds.query('price<5000')['price'],kde=False,bins=250)"
   ]
  },
  {
   "cell_type": "code",
   "execution_count": null,
   "metadata": {},
   "outputs": [],
   "source": [
    "# how is carat related to price? ; kind=resid, reg, kde, etc.\n",
    "\n",
    "sns.jointplot(data=diamonds.query('carat<2 & price<10000'),y='price',x='carat',kind='reg')"
   ]
  },
  {
   "cell_type": "markdown",
   "metadata": {},
   "source": [
    "# "
   ]
  },
  {
   "cell_type": "code",
   "execution_count": 7,
   "metadata": {},
   "outputs": [
    {
     "data": {
      "text/html": [
       "<div>\n",
       "<style scoped>\n",
       "    .dataframe tbody tr th:only-of-type {\n",
       "        vertical-align: middle;\n",
       "    }\n",
       "\n",
       "    .dataframe tbody tr th {\n",
       "        vertical-align: top;\n",
       "    }\n",
       "\n",
       "    .dataframe thead th {\n",
       "        text-align: right;\n",
       "    }\n",
       "</style>\n",
       "<table border=\"1\" class=\"dataframe\">\n",
       "  <thead>\n",
       "    <tr style=\"text-align: right;\">\n",
       "      <th></th>\n",
       "      <th>AAPL</th>\n",
       "      <th>MSFT</th>\n",
       "      <th>VZ</th>\n",
       "    </tr>\n",
       "    <tr>\n",
       "      <th>Date</th>\n",
       "      <th></th>\n",
       "      <th></th>\n",
       "      <th></th>\n",
       "    </tr>\n",
       "  </thead>\n",
       "  <tbody>\n",
       "    <tr>\n",
       "      <td>2000-01-03</td>\n",
       "      <td>3.470226</td>\n",
       "      <td>37.495686</td>\n",
       "      <td>20.721500</td>\n",
       "    </tr>\n",
       "    <tr>\n",
       "      <td>2000-01-04</td>\n",
       "      <td>3.177650</td>\n",
       "      <td>36.229057</td>\n",
       "      <td>20.051672</td>\n",
       "    </tr>\n",
       "    <tr>\n",
       "      <td>2000-01-05</td>\n",
       "      <td>3.224152</td>\n",
       "      <td>36.611080</td>\n",
       "      <td>20.721500</td>\n",
       "    </tr>\n",
       "    <tr>\n",
       "      <td>2000-01-06</td>\n",
       "      <td>2.945139</td>\n",
       "      <td>35.384666</td>\n",
       "      <td>20.631170</td>\n",
       "    </tr>\n",
       "    <tr>\n",
       "      <td>2000-01-07</td>\n",
       "      <td>3.084645</td>\n",
       "      <td>35.847076</td>\n",
       "      <td>20.478834</td>\n",
       "    </tr>\n",
       "    <tr>\n",
       "      <td>...</td>\n",
       "      <td>...</td>\n",
       "      <td>...</td>\n",
       "      <td>...</td>\n",
       "    </tr>\n",
       "    <tr>\n",
       "      <td>2020-02-07</td>\n",
       "      <td>320.029999</td>\n",
       "      <td>183.889999</td>\n",
       "      <td>59.939999</td>\n",
       "    </tr>\n",
       "    <tr>\n",
       "      <td>2020-02-10</td>\n",
       "      <td>321.549988</td>\n",
       "      <td>188.699997</td>\n",
       "      <td>60.240002</td>\n",
       "    </tr>\n",
       "    <tr>\n",
       "      <td>2020-02-11</td>\n",
       "      <td>319.609985</td>\n",
       "      <td>184.440002</td>\n",
       "      <td>58.689999</td>\n",
       "    </tr>\n",
       "    <tr>\n",
       "      <td>2020-02-12</td>\n",
       "      <td>327.200012</td>\n",
       "      <td>184.710007</td>\n",
       "      <td>58.230000</td>\n",
       "    </tr>\n",
       "    <tr>\n",
       "      <td>2020-02-13</td>\n",
       "      <td>325.825287</td>\n",
       "      <td>183.940002</td>\n",
       "      <td>58.529999</td>\n",
       "    </tr>\n",
       "  </tbody>\n",
       "</table>\n",
       "<p>5061 rows × 3 columns</p>\n",
       "</div>"
      ],
      "text/plain": [
       "                  AAPL        MSFT         VZ\n",
       "Date                                         \n",
       "2000-01-03    3.470226   37.495686  20.721500\n",
       "2000-01-04    3.177650   36.229057  20.051672\n",
       "2000-01-05    3.224152   36.611080  20.721500\n",
       "2000-01-06    2.945139   35.384666  20.631170\n",
       "2000-01-07    3.084645   35.847076  20.478834\n",
       "...                ...         ...        ...\n",
       "2020-02-07  320.029999  183.889999  59.939999\n",
       "2020-02-10  321.549988  188.699997  60.240002\n",
       "2020-02-11  319.609985  184.440002  58.689999\n",
       "2020-02-12  327.200012  184.710007  58.230000\n",
       "2020-02-13  325.825287  183.940002  58.529999\n",
       "\n",
       "[5061 rows x 3 columns]"
      ]
     },
     "execution_count": 7,
     "metadata": {},
     "output_type": "execute_result"
    }
   ],
   "source": [
    "import pandas as pd\n",
    "import numpy as np\n",
    "import pandas_datareader as pdr # you might need to install this (see above)\n",
    "import matplotlib.pyplot as plt\n",
    "import seaborn as sns\n",
    "import statsmodels.api as sm\n",
    "\n",
    "# don't copy and paste these lists and number in several places \n",
    "# (which is what the original \"simple program\" did... that's bad programming!)\n",
    "# instead, create a var - if we change it here, it changes everywhere\n",
    "stocks = ['AAPL','MSFT','VZ']\n",
    "start_yr = 2000\n",
    "\n",
    "# load\n",
    "stock_prices = pdr.get_data_yahoo(stocks, start=start_yr)\n",
    "stock_prices = stock_prices.filter(like='Adj Close') # reduce to just columns with this in the name\n",
    "stock_prices.columns = stocks # put their tickers as column names\n",
    "stock_prices # print"
   ]
  },
  {
   "cell_type": "code",
   "execution_count": 8,
   "metadata": {},
   "outputs": [
    {
     "data": {
      "text/html": [
       "<div>\n",
       "<style scoped>\n",
       "    .dataframe tbody tr th:only-of-type {\n",
       "        vertical-align: middle;\n",
       "    }\n",
       "\n",
       "    .dataframe tbody tr th {\n",
       "        vertical-align: top;\n",
       "    }\n",
       "\n",
       "    .dataframe thead th {\n",
       "        text-align: right;\n",
       "    }\n",
       "</style>\n",
       "<table border=\"1\" class=\"dataframe\">\n",
       "  <thead>\n",
       "    <tr style=\"text-align: right;\">\n",
       "      <th></th>\n",
       "      <th>Firm</th>\n",
       "      <th>Date</th>\n",
       "      <th>Adj Close</th>\n",
       "    </tr>\n",
       "  </thead>\n",
       "  <tbody>\n",
       "    <tr>\n",
       "      <td>0</td>\n",
       "      <td>AAPL</td>\n",
       "      <td>2000-01-03</td>\n",
       "      <td>3.470226</td>\n",
       "    </tr>\n",
       "    <tr>\n",
       "      <td>1</td>\n",
       "      <td>AAPL</td>\n",
       "      <td>2000-01-04</td>\n",
       "      <td>3.177650</td>\n",
       "    </tr>\n",
       "    <tr>\n",
       "      <td>2</td>\n",
       "      <td>AAPL</td>\n",
       "      <td>2000-01-05</td>\n",
       "      <td>3.224152</td>\n",
       "    </tr>\n",
       "    <tr>\n",
       "      <td>3</td>\n",
       "      <td>AAPL</td>\n",
       "      <td>2000-01-06</td>\n",
       "      <td>2.945139</td>\n",
       "    </tr>\n",
       "    <tr>\n",
       "      <td>4</td>\n",
       "      <td>AAPL</td>\n",
       "      <td>2000-01-07</td>\n",
       "      <td>3.084645</td>\n",
       "    </tr>\n",
       "    <tr>\n",
       "      <td>...</td>\n",
       "      <td>...</td>\n",
       "      <td>...</td>\n",
       "      <td>...</td>\n",
       "    </tr>\n",
       "    <tr>\n",
       "      <td>15178</td>\n",
       "      <td>VZ</td>\n",
       "      <td>2020-02-07</td>\n",
       "      <td>59.939999</td>\n",
       "    </tr>\n",
       "    <tr>\n",
       "      <td>15179</td>\n",
       "      <td>VZ</td>\n",
       "      <td>2020-02-10</td>\n",
       "      <td>60.240002</td>\n",
       "    </tr>\n",
       "    <tr>\n",
       "      <td>15180</td>\n",
       "      <td>VZ</td>\n",
       "      <td>2020-02-11</td>\n",
       "      <td>58.689999</td>\n",
       "    </tr>\n",
       "    <tr>\n",
       "      <td>15181</td>\n",
       "      <td>VZ</td>\n",
       "      <td>2020-02-12</td>\n",
       "      <td>58.230000</td>\n",
       "    </tr>\n",
       "    <tr>\n",
       "      <td>15182</td>\n",
       "      <td>VZ</td>\n",
       "      <td>2020-02-13</td>\n",
       "      <td>58.529999</td>\n",
       "    </tr>\n",
       "  </tbody>\n",
       "</table>\n",
       "<p>15183 rows × 3 columns</p>\n",
       "</div>"
      ],
      "text/plain": [
       "       Firm       Date  Adj Close\n",
       "0      AAPL 2000-01-03   3.470226\n",
       "1      AAPL 2000-01-04   3.177650\n",
       "2      AAPL 2000-01-05   3.224152\n",
       "3      AAPL 2000-01-06   2.945139\n",
       "4      AAPL 2000-01-07   3.084645\n",
       "...     ...        ...        ...\n",
       "15178    VZ 2020-02-07  59.939999\n",
       "15179    VZ 2020-02-10  60.240002\n",
       "15180    VZ 2020-02-11  58.689999\n",
       "15181    VZ 2020-02-12  58.230000\n",
       "15182    VZ 2020-02-13  58.529999\n",
       "\n",
       "[15183 rows x 3 columns]"
      ]
     },
     "execution_count": 8,
     "metadata": {},
     "output_type": "execute_result"
    }
   ],
   "source": [
    "# this is wide data... so if we want to create a new variable, we have to do it once for each firm...\n",
    "# what if we have 1000 firms? seems tough to do...\n",
    "# make long/tidy:\n",
    "stock_prices = stock_prices.stack().swaplevel().sort_index().reset_index()\n",
    "stock_prices.columns = ['Firm','Date','Adj Close']\n",
    "stock_prices # print - now that is formatted nicely, like CRSP! \n",
    "\n",
    "# note: we might have to tweak the regression section of \"Simple Program\"\n",
    "# to work with the long data, but I suspect that it would be shorter code and \n",
    "# more \"generally applicable\" (ie easily work with N=1000+ firms)"
   ]
  },
  {
   "cell_type": "code",
   "execution_count": 9,
   "metadata": {},
   "outputs": [
    {
     "data": {
      "text/html": [
       "<div>\n",
       "<style scoped>\n",
       "    .dataframe tbody tr th:only-of-type {\n",
       "        vertical-align: middle;\n",
       "    }\n",
       "\n",
       "    .dataframe tbody tr th {\n",
       "        vertical-align: top;\n",
       "    }\n",
       "\n",
       "    .dataframe thead th {\n",
       "        text-align: right;\n",
       "    }\n",
       "</style>\n",
       "<table border=\"1\" class=\"dataframe\">\n",
       "  <thead>\n",
       "    <tr style=\"text-align: right;\">\n",
       "      <th></th>\n",
       "      <th>Firm</th>\n",
       "      <th>Date</th>\n",
       "      <th>Adj Close</th>\n",
       "      <th>ret</th>\n",
       "    </tr>\n",
       "  </thead>\n",
       "  <tbody>\n",
       "    <tr>\n",
       "      <td>0</td>\n",
       "      <td>AAPL</td>\n",
       "      <td>2000-01-03</td>\n",
       "      <td>3.470226</td>\n",
       "      <td>NaN</td>\n",
       "    </tr>\n",
       "    <tr>\n",
       "      <td>1</td>\n",
       "      <td>AAPL</td>\n",
       "      <td>2000-01-04</td>\n",
       "      <td>3.177650</td>\n",
       "      <td>-0.084310</td>\n",
       "    </tr>\n",
       "    <tr>\n",
       "      <td>2</td>\n",
       "      <td>AAPL</td>\n",
       "      <td>2000-01-05</td>\n",
       "      <td>3.224152</td>\n",
       "      <td>0.014634</td>\n",
       "    </tr>\n",
       "    <tr>\n",
       "      <td>3</td>\n",
       "      <td>AAPL</td>\n",
       "      <td>2000-01-06</td>\n",
       "      <td>2.945139</td>\n",
       "      <td>-0.086538</td>\n",
       "    </tr>\n",
       "    <tr>\n",
       "      <td>4</td>\n",
       "      <td>AAPL</td>\n",
       "      <td>2000-01-07</td>\n",
       "      <td>3.084645</td>\n",
       "      <td>0.047368</td>\n",
       "    </tr>\n",
       "    <tr>\n",
       "      <td>...</td>\n",
       "      <td>...</td>\n",
       "      <td>...</td>\n",
       "      <td>...</td>\n",
       "      <td>...</td>\n",
       "    </tr>\n",
       "    <tr>\n",
       "      <td>15178</td>\n",
       "      <td>VZ</td>\n",
       "      <td>2020-02-07</td>\n",
       "      <td>59.939999</td>\n",
       "      <td>0.008412</td>\n",
       "    </tr>\n",
       "    <tr>\n",
       "      <td>15179</td>\n",
       "      <td>VZ</td>\n",
       "      <td>2020-02-10</td>\n",
       "      <td>60.240002</td>\n",
       "      <td>0.005005</td>\n",
       "    </tr>\n",
       "    <tr>\n",
       "      <td>15180</td>\n",
       "      <td>VZ</td>\n",
       "      <td>2020-02-11</td>\n",
       "      <td>58.689999</td>\n",
       "      <td>-0.025730</td>\n",
       "    </tr>\n",
       "    <tr>\n",
       "      <td>15181</td>\n",
       "      <td>VZ</td>\n",
       "      <td>2020-02-12</td>\n",
       "      <td>58.230000</td>\n",
       "      <td>-0.007838</td>\n",
       "    </tr>\n",
       "    <tr>\n",
       "      <td>15182</td>\n",
       "      <td>VZ</td>\n",
       "      <td>2020-02-13</td>\n",
       "      <td>58.529999</td>\n",
       "      <td>0.005152</td>\n",
       "    </tr>\n",
       "  </tbody>\n",
       "</table>\n",
       "<p>15183 rows × 4 columns</p>\n",
       "</div>"
      ],
      "text/plain": [
       "       Firm       Date  Adj Close       ret\n",
       "0      AAPL 2000-01-03   3.470226       NaN\n",
       "1      AAPL 2000-01-04   3.177650 -0.084310\n",
       "2      AAPL 2000-01-05   3.224152  0.014634\n",
       "3      AAPL 2000-01-06   2.945139 -0.086538\n",
       "4      AAPL 2000-01-07   3.084645  0.047368\n",
       "...     ...        ...        ...       ...\n",
       "15178    VZ 2020-02-07  59.939999  0.008412\n",
       "15179    VZ 2020-02-10  60.240002  0.005005\n",
       "15180    VZ 2020-02-11  58.689999 -0.025730\n",
       "15181    VZ 2020-02-12  58.230000 -0.007838\n",
       "15182    VZ 2020-02-13  58.529999  0.005152\n",
       "\n",
       "[15183 rows x 4 columns]"
      ]
     },
     "execution_count": 9,
     "metadata": {},
     "output_type": "execute_result"
    }
   ],
   "source": [
    "# add return var.\n",
    "# MAKE SURE YOU CREATE THE VARIABLES WITHIN EACH FIRM - use groupby\n",
    "stock_prices['ret'] = stock_prices.groupby('Firm')['Adj Close'].pct_change()\n",
    "stock_prices # print - the first ret for each firm should be missing...b"
   ]
  },
  {
   "cell_type": "code",
   "execution_count": 10,
   "metadata": {},
   "outputs": [
    {
     "data": {
      "text/plain": [
       "3"
      ]
     },
     "execution_count": 10,
     "metadata": {},
     "output_type": "execute_result"
    }
   ],
   "source": [
    "stock_prices['ret'].isna().sum()"
   ]
  },
  {
   "cell_type": "code",
   "execution_count": 11,
   "metadata": {},
   "outputs": [
    {
     "data": {
      "text/html": [
       "<div>\n",
       "<style scoped>\n",
       "    .dataframe tbody tr th:only-of-type {\n",
       "        vertical-align: middle;\n",
       "    }\n",
       "\n",
       "    .dataframe tbody tr th {\n",
       "        vertical-align: top;\n",
       "    }\n",
       "\n",
       "    .dataframe thead th {\n",
       "        text-align: right;\n",
       "    }\n",
       "</style>\n",
       "<table border=\"1\" class=\"dataframe\">\n",
       "  <thead>\n",
       "    <tr style=\"text-align: right;\">\n",
       "      <th></th>\n",
       "      <th>count</th>\n",
       "      <th>mean</th>\n",
       "      <th>std</th>\n",
       "      <th>min</th>\n",
       "      <th>25%</th>\n",
       "      <th>50%</th>\n",
       "      <th>75%</th>\n",
       "      <th>max</th>\n",
       "    </tr>\n",
       "    <tr>\n",
       "      <th>Firm</th>\n",
       "      <th></th>\n",
       "      <th></th>\n",
       "      <th></th>\n",
       "      <th></th>\n",
       "      <th></th>\n",
       "      <th></th>\n",
       "      <th></th>\n",
       "      <th></th>\n",
       "    </tr>\n",
       "  </thead>\n",
       "  <tbody>\n",
       "    <tr>\n",
       "      <td>AAPL</td>\n",
       "      <td>5060.0</td>\n",
       "      <td>0.001235</td>\n",
       "      <td>0.025351</td>\n",
       "      <td>-0.518692</td>\n",
       "      <td>-0.010326</td>\n",
       "      <td>0.000899</td>\n",
       "      <td>0.012946</td>\n",
       "      <td>0.139049</td>\n",
       "    </tr>\n",
       "    <tr>\n",
       "      <td>MSFT</td>\n",
       "      <td>5060.0</td>\n",
       "      <td>0.000494</td>\n",
       "      <td>0.018967</td>\n",
       "      <td>-0.155977</td>\n",
       "      <td>-0.008045</td>\n",
       "      <td>0.000337</td>\n",
       "      <td>0.008933</td>\n",
       "      <td>0.195652</td>\n",
       "    </tr>\n",
       "    <tr>\n",
       "      <td>VZ</td>\n",
       "      <td>5060.0</td>\n",
       "      <td>0.000323</td>\n",
       "      <td>0.015350</td>\n",
       "      <td>-0.118461</td>\n",
       "      <td>-0.007238</td>\n",
       "      <td>0.000395</td>\n",
       "      <td>0.007704</td>\n",
       "      <td>0.146324</td>\n",
       "    </tr>\n",
       "  </tbody>\n",
       "</table>\n",
       "</div>"
      ],
      "text/plain": [
       "       count      mean       std       min       25%       50%       75%  \\\n",
       "Firm                                                                       \n",
       "AAPL  5060.0  0.001235  0.025351 -0.518692 -0.010326  0.000899  0.012946   \n",
       "MSFT  5060.0  0.000494  0.018967 -0.155977 -0.008045  0.000337  0.008933   \n",
       "VZ    5060.0  0.000323  0.015350 -0.118461 -0.007238  0.000395  0.007704   \n",
       "\n",
       "           max  \n",
       "Firm            \n",
       "AAPL  0.139049  \n",
       "MSFT  0.195652  \n",
       "VZ    0.146324  "
      ]
     },
     "execution_count": 11,
     "metadata": {},
     "output_type": "execute_result"
    }
   ],
   "source": [
    "stock_prices.groupby('Firm')     ['ret'].describe() #for each firm, describe the return variable"
   ]
  },
  {
   "cell_type": "code",
   "execution_count": null,
   "metadata": {},
   "outputs": [],
   "source": [
    "help(stock_prices['ret'].isnull)"
   ]
  },
  {
   "cell_type": "code",
   "execution_count": null,
   "metadata": {},
   "outputs": [],
   "source": []
  }
 ],
 "metadata": {
  "kernelspec": {
   "display_name": "Python 3",
   "language": "python",
   "name": "python3"
  },
  "language_info": {
   "codemirror_mode": {
    "name": "ipython",
    "version": 3
   },
   "file_extension": ".py",
   "mimetype": "text/x-python",
   "name": "python",
   "nbconvert_exporter": "python",
   "pygments_lexer": "ipython3",
   "version": "3.7.4"
  }
 },
 "nbformat": 4,
 "nbformat_minor": 2
}
