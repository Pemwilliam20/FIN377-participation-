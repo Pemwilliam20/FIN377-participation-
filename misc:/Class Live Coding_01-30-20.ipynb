{
 "cells": [
  {
   "cell_type": "code",
   "execution_count": 5,
   "metadata": {},
   "outputs": [
    {
     "name": "stdout",
     "output_type": "stream",
     "text": [
      "2 1 hey there\n"
     ]
    }
   ],
   "source": [
    "def silly_fnc():\n",
    "    '''\n",
    "    This is just a practice function. \n",
    "    \n",
    "    If you give me arguments, I'll do NOTHING\n",
    "    '''\n",
    "    return 2, 1, \"hey there\"\n",
    "    \n",
    "a,b,c=silly_fnc()\n",
    "print(a,b,c)"
   ]
  },
  {
   "cell_type": "code",
   "execution_count": 6,
   "metadata": {},
   "outputs": [],
   "source": [
    "silly_fnc?"
   ]
  },
  {
   "cell_type": "code",
   "execution_count": null,
   "metadata": {},
   "outputs": [],
   "source": []
  }
 ],
 "metadata": {
  "kernelspec": {
   "display_name": "Python 3",
   "language": "python",
   "name": "python3"
  },
  "language_info": {
   "codemirror_mode": {
    "name": "ipython",
    "version": 3
   },
   "file_extension": ".py",
   "mimetype": "text/x-python",
   "name": "python",
   "nbconvert_exporter": "python",
   "pygments_lexer": "ipython3",
   "version": "3.7.4"
  }
 },
 "nbformat": 4,
 "nbformat_minor": 2
}
